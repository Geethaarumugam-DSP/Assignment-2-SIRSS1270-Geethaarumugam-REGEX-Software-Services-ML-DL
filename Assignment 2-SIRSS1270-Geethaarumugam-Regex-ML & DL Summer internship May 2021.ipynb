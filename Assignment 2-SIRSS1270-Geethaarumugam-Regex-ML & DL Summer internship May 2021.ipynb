{
 "cells": [
  {
   "cell_type": "markdown",
   "metadata": {},
   "source": [
    "# Summer Training/Internship Program May 2021- MACHINE LEARNING & DEEP LEARNING\n",
    "\n",
    "Registration I'd: SIRSS1270\n",
    "\n",
    "Name: Geethaarumugam\n",
    "\n",
    "Assignment 2 "
   ]
  },
  {
   "cell_type": "markdown",
   "metadata": {},
   "source": [
    "# Q1. Write a lambda expression to extract first word of a string."
   ]
  },
  {
   "cell_type": "code",
   "execution_count": 1,
   "metadata": {},
   "outputs": [
    {
     "data": {
      "text/plain": [
       "<function __main__.<lambda>(words)>"
      ]
     },
     "execution_count": 1,
     "metadata": {},
     "output_type": "execute_result"
    }
   ],
   "source": [
    "x =lambda words : words.split()[0]\n",
    "x"
   ]
  },
  {
   "cell_type": "code",
   "execution_count": 2,
   "metadata": {},
   "outputs": [],
   "source": [
    "def first_word(x):\n",
    "    return x.split()[0]\n"
   ]
  },
  {
   "cell_type": "code",
   "execution_count": 3,
   "metadata": {},
   "outputs": [
    {
     "data": {
      "text/plain": [
       "'I'"
      ]
     },
     "execution_count": 3,
     "metadata": {},
     "output_type": "execute_result"
    }
   ],
   "source": [
    "first_word('I am Geethaarumugam')"
   ]
  },
  {
   "cell_type": "markdown",
   "metadata": {},
   "source": [
    "# Q2. Write a function to extract first word of s string (with many words separated by space"
   ]
  },
  {
   "cell_type": "code",
   "execution_count": 4,
   "metadata": {},
   "outputs": [
    {
     "name": "stdout",
     "output_type": "stream",
     "text": [
      "Im Geethaarumugam\n",
      "Im\n"
     ]
    }
   ],
   "source": [
    "def first_word(x):\n",
    "    return x.split()[0]\n",
    "x= input()\n",
    "print(first_word(x))"
   ]
  },
  {
   "cell_type": "markdown",
   "metadata": {},
   "source": [
    "# Q3. Extract the first word from every string from a list of strings by using map function"
   ]
  },
  {
   "cell_type": "code",
   "execution_count": 5,
   "metadata": {},
   "outputs": [
    {
     "data": {
      "text/plain": [
       "['The', 'golden', 'Sun', 'in', 'Earth']"
      ]
     },
     "execution_count": 5,
     "metadata": {},
     "output_type": "execute_result"
    }
   ],
   "source": [
    "def first_word(x):\n",
    "    return x.split()[0]\n",
    "list1 = ['The busy as a bee', 'golden glitters', 'Sun Flower', 'in world', 'Earth Warm' ]\n",
    "a= list(map (first_word, list1))\n",
    "a"
   ]
  },
  {
   "cell_type": "markdown",
   "metadata": {},
   "source": [
    "# Q4. Write a function to return a list of prime factors of a given number."
   ]
  },
  {
   "cell_type": "code",
   "execution_count": 6,
   "metadata": {},
   "outputs": [
    {
     "name": "stdout",
     "output_type": "stream",
     "text": [
      "Enter a number35\n",
      "prime factors of 35 are: [1, 5, 7, 35]\n"
     ]
    }
   ],
   "source": [
    "def primenumber(n):\n",
    "    for i in range(2,n):\n",
    "        if n%i ==0:\n",
    "            return 0\n",
    "        else:\n",
    "            return 1\n",
    "def primenum(n):\n",
    "    l = [1]\n",
    "    for i in range(2, n+1):\n",
    "        if n%i==0:\n",
    "            if(primenumber(i)):\n",
    "                l.append(i)\n",
    "    return l\n",
    "n = int(input('Enter a number'))\n",
    "print('prime factors of', n, 'are:', primenum(n))"
   ]
  },
  {
   "cell_type": "markdown",
   "metadata": {},
   "source": [
    "# Q5. Write a function that finds 2nd largest among 4 numbers (Repetitions are allowed, without sorting)."
   ]
  },
  {
   "cell_type": "code",
   "execution_count": 7,
   "metadata": {},
   "outputs": [
    {
     "name": "stdout",
     "output_type": "stream",
     "text": [
      "Enter any four numbers :10 7 7 10\n",
      "7\n"
     ]
    }
   ],
   "source": [
    "def secondlargest(n):\n",
    "    first_num =set(n)\n",
    "    first_num.remove(max(first_num))\n",
    "    print(max(first_num))\n",
    "n= [int(i)for i in input(\"Enter any four numbers :\").split()]\n",
    "secondlargest(n)\n"
   ]
  },
  {
   "cell_type": "markdown",
   "metadata": {},
   "source": [
    "# Thank you"
   ]
  }
 ],
 "metadata": {
  "kernelspec": {
   "display_name": "Python 3",
   "language": "python",
   "name": "python3"
  },
  "language_info": {
   "codemirror_mode": {
    "name": "ipython",
    "version": 3
   },
   "file_extension": ".py",
   "mimetype": "text/x-python",
   "name": "python",
   "nbconvert_exporter": "python",
   "pygments_lexer": "ipython3",
   "version": "3.8.5"
  }
 },
 "nbformat": 4,
 "nbformat_minor": 4
}
